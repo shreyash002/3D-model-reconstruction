{
  "nbformat": 4,
  "nbformat_minor": 0,
  "metadata": {
    "kernelspec": {
      "display_name": "Python 3",
      "language": "python",
      "name": "python3"
    },
    "language_info": {
      "codemirror_mode": {
        "name": "ipython",
        "version": 3
      },
      "file_extension": ".py",
      "mimetype": "text/x-python",
      "name": "python",
      "nbconvert_exporter": "python",
      "pygments_lexer": "ipython3",
      "version": "3.7.8"
    },
    "colab": {
      "name": "Evaluation.ipynb",
      "provenance": []
    }
  },
  "cells": [
    {
      "cell_type": "code",
      "metadata": {
        "id": "AZJJfWTfDzrL"
      },
      "source": [
        "import torch\n",
        "import torch.nn as nn\n",
        "import torch.nn.functional as F\n",
        "import torch.optim as optim\n",
        "import numpy as np\n",
        "import os\n",
        "import PIL.Image as Image\n",
        "import sys\n",
        "from torch.utils.data import Dataset, DataLoader\n",
        "import pickle\n",
        "import torchvision\n",
        "from torchvision import datasets, models, transforms\n",
        "import binvox_rw\n",
        "\n",
        "# Path for the model to test with\n",
        "PATH = '25'\n",
        "\n",
        "# The threshold for the binvox creation same as for training\n",
        "THRESH = 0.2\n",
        "\n",
        "# Added to get consistent results on multiple machines\n",
        "np.random.seed(0)"
      ],
      "execution_count": null,
      "outputs": []
    },
    {
      "cell_type": "code",
      "metadata": {
        "id": "Hv9LGTDiDzrU"
      },
      "source": [
        "#! cp Debug/0/model.binvox .\n",
        "! ls"
      ],
      "execution_count": null,
      "outputs": []
    },
    {
      "cell_type": "code",
      "metadata": {
        "id": "1s1UFWFZDzrW"
      },
      "source": [
        "def IoU(actual, predicted):\n",
        "    return np.sum(actual*predicted)/np.sum(actual.astype(np.bool_)+predicted.astype(np.bool_))"
      ],
      "execution_count": null,
      "outputs": []
    },
    {
      "cell_type": "code",
      "metadata": {
        "id": "4wlsDjRuDzrY"
      },
      "source": [
        "class ResNetFC(torch.nn.Module):\n",
        "\n",
        "  def __init__(self, hidden_dim):\n",
        "    \n",
        "    super(ResNetFC, self).__init__()\n",
        "\n",
        "    self.fc1 = nn.Linear(hidden_dim, hidden_dim)\n",
        "    self.fc2 = nn.Linear(hidden_dim, hidden_dim)\n",
        "\n",
        "    self.relu = nn.ReLU()\n",
        "\n",
        "  def forward(self, input):\n",
        "    \n",
        "    x = self.fc1(self.relu(input))\n",
        "    y = self.fc1(self.relu(x))\n",
        "\n",
        "    return x+y"
      ],
      "execution_count": null,
      "outputs": []
    },
    {
      "cell_type": "code",
      "metadata": {
        "id": "Jwt5s0sKDzrY"
      },
      "source": [
        "class OccupancyNet(torch.nn.Module):\n",
        "    def __init__(self, input_len=3, num_channels=3, num_images=4, debug=False):\n",
        "        super(OccupancyNet, self).__init__()\n",
        "        self.debug = debug\n",
        "        self.num_channels = num_channels\n",
        "        self.num_images = num_images\n",
        "        self.input_len = input_len\n",
        "        self.resnet18 = models.resnet18(pretrained=True)\n",
        "        \n",
        "        # freeze layers\n",
        "        count = 1\n",
        "        FREEZE_COUNT = 6\n",
        "        for child in self.resnet18.children():\n",
        "            count += 1\n",
        "            # if count >= FREEZE_COUNT:\n",
        "            #     break\n",
        "            for param in child.parameters():\n",
        "                param.requires_grad = False\n",
        "        print(count)\n",
        "        \n",
        "        self.decoder_conv = nn.Conv2d(in_channels=512, out_channels=128, kernel_size=3, stride=2, padding=5)\n",
        "        self.bn1 = nn.BatchNorm2d(128)\n",
        "        self.relu1 = nn.ReLU()\n",
        "        \n",
        "        self.decoder_linear = nn.Linear(6272, 256)\n",
        "        \n",
        "        self.conv2 = nn.Conv2d(in_channels=512, out_channels=512, kernel_size=1, stride=1, padding=0)\n",
        "\n",
        "        if self.debug:\n",
        "            print(self.resnet18)\n",
        "            # pick out layer\n",
        "            print(self.input_len)\n",
        "        self.fc1 = nn.Linear(int(self.input_len),int(256))\n",
        "        self.fc2 = nn.Linear(int(256), int(256))\n",
        "        self.fc3 = nn.Linear(int(256), int(256))\n",
        "        self.output_layer = nn.Linear(int(256), 1)\n",
        "        \n",
        "        self.fc_z = nn.Linear(int(256), int(256))\n",
        "\n",
        "        self.resnet_b = ResNetFC(int(256))\n",
        "\n",
        "    def forward_resnet(self, input):\n",
        "        # I guess this should work, not sure though\n",
        "        x = self.resnet18.conv1(input)\n",
        "        x = self.resnet18.bn1(x)\n",
        "        x = self.resnet18.relu(x)\n",
        "        x = self.resnet18.maxpool(x)\n",
        "\n",
        "        x = self.resnet18.layer1(x)\n",
        "        x = self.resnet18.layer2(x)\n",
        "        x = self.resnet18.layer3(x)\n",
        "        x = self.resnet18.layer4(x)\n",
        "        \n",
        "        x = self.conv2(x)\n",
        "\n",
        "        # need to check and change shape\n",
        "        return x\n",
        "\n",
        "    def encoder(self, images):\n",
        "        y = None\n",
        "        for i in range(self.num_images):\n",
        "            if self.debug:\n",
        "                print(images[:,self.num_channels*i:self.num_channels*(i+1),:,:].shape)\n",
        "            \n",
        "            if y is None:\n",
        "                y = self.forward_resnet(images[:,self.num_channels*i:self.num_channels*(i+1),:,:])\n",
        "            else:\n",
        "                y = y.clone() + self.forward_resnet(images[:,self.num_channels*i:self.num_channels*(i+1),:,:])\n",
        "\n",
        "        return y\n",
        "    \n",
        "    def decoder(self, inp):\n",
        "        x = self.decoder_conv(inp)\n",
        "        x = self.bn1(x)\n",
        "        x = torch.flatten(x,1)\n",
        "        x = self.relu1(x)\n",
        "        x = self.decoder_linear(x).squeeze()\n",
        "        \n",
        "        return x\n",
        "    \n",
        "    def loss_addon(self, pt, z, img):\n",
        "        \n",
        "#         net_z = self.fc3(z).unsqueeze(1)\n",
        "#         net = pt + net_z\n",
        "        net = pt\n",
        "        y = self.decoder(img)\n",
        "        x = self.combiner(net, y)\n",
        "        return x\n",
        "    \n",
        "    def combiner(self, point, y):\n",
        "        x = self.fc1(point)\n",
        "        x += y\n",
        "        # x = self.fc2(x)\n",
        "        # x += y\n",
        "\n",
        "        x = self.resnet_b(x)\n",
        "        x = self.resnet_b(x)\n",
        "        x = self.resnet_b(x)\n",
        "        x = self.resnet_b(x)\n",
        "        x = self.resnet_b(x)\n",
        "\n",
        "        x = self.relu1(x)\n",
        "        x = self.output_layer(x)\n",
        "\n",
        "        return x\n",
        "    \n",
        "    def forward(self, images, point):\n",
        "        # not complete architecture\n",
        "        y = self.encoder(images)\n",
        "        if self.debug:\n",
        "            print(y.shape)\n",
        "            \n",
        "        y = self.decoder(y)\n",
        "        \n",
        "        x = self.combiner(point, y)\n",
        "        \n",
        "        sig = nn.Sigmoid()\n",
        "        return sig(x)"
      ],
      "execution_count": null,
      "outputs": []
    },
    {
      "cell_type": "code",
      "metadata": {
        "id": "LYKQGi5HDzra",
        "outputId": "027180f3-6a4e-4d69-969b-267a36a1fecf"
      },
      "source": [
        "model = OccupancyNet(debug=False)"
      ],
      "execution_count": null,
      "outputs": [
        {
          "output_type": "stream",
          "text": [
            "11\n"
          ],
          "name": "stdout"
        }
      ]
    },
    {
      "cell_type": "code",
      "metadata": {
        "id": "dVxa8frNDzrc"
      },
      "source": [
        "class SubSet(Dataset):\n",
        "    def __init__(self,dataset,idx):\n",
        "        self.ds = dataset\n",
        "        self.idx = idx\n",
        "    def __len__(self):\n",
        "        return len(self.idx)\n",
        "    def __getitem__(self,i):\n",
        "        return self.ds[self.idx[i]]"
      ],
      "execution_count": null,
      "outputs": []
    },
    {
      "cell_type": "code",
      "metadata": {
        "id": "oT_QMSrIDzrc"
      },
      "source": [
        "class ImageVoxelDataset(Dataset):\n",
        "    def __init__(self, num_images=4, is_voxel=False, input_shape=(32, 32, 32), \n",
        "                 loc=\"./Debug1u/\",\n",
        "                 img_loc = \"./Debug1/\",\n",
        "                 def_images=[\"000.npy\", \"001.npy\", \"002.npy\", \"003.npy\"], debug=False):\n",
        "        ## def_images=[\"000.jpg\", \"001.jpg\", \"002.jpg\", \"003.jpg\"]\n",
        "        self.num_images = num_images\n",
        "        self.debug = debug\n",
        "        self.loc = loc\n",
        "        self.img_loc = img_loc\n",
        "        self.is_voxel = is_voxel\n",
        "        self.input_shape = input_shape\n",
        "        self.input_size = np.prod(np.array(self.input_shape))\n",
        "        self.objects = os.listdir(loc)\n",
        "        self.num_objects = len(self.objects)\n",
        "        if self.debug:\n",
        "            print(self.num_objects)\n",
        "        self.def_images = def_images\n",
        "\n",
        "\n",
        "    def __len__(self):\n",
        "        if self.is_voxel:\n",
        "            return self.num_objects\n",
        "        else:\n",
        "            return self.num_objects * self.input_size\n",
        "\n",
        "    def __getitem__(self, i=32):\n",
        "        # return preprocessed image inputs and outputs\n",
        "        # generate random point in space\n",
        "        \n",
        "        # most probable conversion from i to each point\n",
        "        # in __init__ have a list of n objects, each pointing to a folder\n",
        "        # each of the n objects will self.input_size number of points in them\n",
        "        \n",
        "        if not self.is_voxel:\n",
        "            if self.debug:\n",
        "                print(\"Point\")\n",
        "            object_num = int(i/self.input_size)\n",
        "            element_num = i%self.input_size\n",
        "            x_size = self.input_shape[1]*self.input_shape[2]\n",
        "            x = int(element_num/x_size)\n",
        "            y = int((element_num-(x*x_size))/self.input_shape[2])\n",
        "            z = int(element_num-(x*x_size)-(y*self.input_shape[2]))\n",
        "\n",
        "            point = np.array([x, y, z])\n",
        "            model = None\n",
        "            #with open(self.loc+self.objects[int(object_num)]+\"/model.binvox\", 'rb') as f:\n",
        "            #    model = binvox_rw.read_as_3d_array(f)\n",
        "            model = np.load(self.loc+self.objects[int(object_num)]+\"/model.npy\")\n",
        "            multi = int(32/self.input_shape[0])\n",
        "            occupied = model[multi*x, multi*y, multi*z]\n",
        "\n",
        "            images = None\n",
        "\n",
        "            for img_num in range(self.num_images):\n",
        "                image = np.array(np.load(self.img_loc+self.objects[int(object_num)]+\"/images/\"+self.def_images[img_num]))\n",
        "                if self.debug:\n",
        "                    print(image.shape)\n",
        "                if images is None:\n",
        "                    images = np.zeros((image.shape[0],image.shape[1], image.shape[2]*self.num_images))\n",
        "\n",
        "                images[:,:,img_num*image.shape[2]:(img_num+1)*image.shape[2]] = image\n",
        "\n",
        "            images = np.transpose(images,(2,0,1))\n",
        "            if self.debug:\n",
        "                print(\"Point\", point)\n",
        "                print(\"Images\", images.shape)\n",
        "                print(\"Occupied\", occupied)\n",
        "            return {\"obj\": self.objects[int(object_num)], \"obj_num\": object_num, \"image\": images.astype(np.float32), \"point\":point.astype(np.float32), \"occupied\":occupied.astype(int)}\n",
        "\n",
        "        else:\n",
        "            #load voxel data\n",
        "            if self.debug:\n",
        "                print(\"Voxel\") \n",
        "            model = None\n",
        "            with open(self.loc+self.objects[int(i)]+\"/model.binvox\", 'rb') as f:\n",
        "                model = binvox_rw.read_as_3d_array(f)\n",
        "            occupied = model.data\n",
        "\n",
        "            images = None\n",
        "\n",
        "            for img_num in range(self.num_images):\n",
        "                image = np.array(np.load(self.img_loc+self.objects[int(i)]+\"/images/\"+self.def_images[img_num]))\n",
        "                if self.debug:\n",
        "                    print(image.shape)\n",
        "                if images is None:\n",
        "                    images = np.zeros((image.shape[0],image.shape[1], image.shape[2]*self.num_images))\n",
        "\n",
        "                images[:,:,img_num*image.shape[2]:(img_num+1)*image.shape[2]] = image\n",
        "\n",
        "            images = np.transpose(images,(2,0,1))\n",
        "            if self.debug:\n",
        "                print(\"Images\", images.shape)\n",
        "                print(\"Occupied\", occupied)\n",
        "            return {\"image\":images.astype(np.float32), \"occupied\":occupied.astype(int)}\n"
      ],
      "execution_count": null,
      "outputs": []
    },
    {
      "cell_type": "code",
      "metadata": {
        "id": "UYuJYA0wDzrd"
      },
      "source": [
        "ivd = ImageVoxelDataset(debug=False)"
      ],
      "execution_count": null,
      "outputs": []
    },
    {
      "cell_type": "code",
      "metadata": {
        "id": "v73gI5IXDzrf",
        "outputId": "2dc1dd8c-b89b-4921-b99c-4b90300eba3f"
      },
      "source": [
        "val_percentage = .03\n",
        "val_size = int(ivd.num_objects * val_percentage)\n",
        "val_objects = np.random.choice(ivd.num_objects,size=val_size,replace=False)\n",
        "# train_objects = np.delete(np.arange(ivd.num_objects),val_objects)\n",
        "# test_objects = np.append(train_objects, val_objects)\n",
        "print(len(val_objects))#, len(train_objects), len(np.unique(test_objects)))\n",
        "#print(val_objects)\n",
        "\n",
        "val_idx = None\n",
        "for objs in val_objects:\n",
        "    if val_idx is None:\n",
        "        val_idx = np.arange(objs*ivd.input_size,(objs+1)*ivd.input_size)\n",
        "    else:\n",
        "        val_idx = np.append(val_idx, np.arange(objs*ivd.input_size,(objs+1)*ivd.input_size))\n",
        "\n",
        "print(len(val_idx))#, len(train_idx), len(np.unique(test_idx)), len(ivd), len(np.unique(test_idx)) == len(ivd), len(val_idx) + len(train_idx) == len(np.unique(test_idx)))"
      ],
      "execution_count": null,
      "outputs": [
        {
          "output_type": "stream",
          "text": [
            "96\n",
            "3145728\n"
          ],
          "name": "stdout"
        }
      ]
    },
    {
      "cell_type": "code",
      "metadata": {
        "id": "3W7PtpsYDzrg"
      },
      "source": [
        "def model_accuracy(model, dataloader_check, batch_size, device):\n",
        "\n",
        "  correct = 0\n",
        "  total = 0\n",
        "  model = model.to(device)\n",
        "  with torch.no_grad():\n",
        "      for data in dataloader_check:\n",
        "          local_X = data[\"image\"].float()\n",
        "          local_Y = data[\"occupied\"].float()\n",
        "          local_Z = data[\"point\"].float()\n",
        "          local_X = local_X.to(device)\n",
        "          local_Y = local_Y.to(device)\n",
        "          local_Z = local_Z.to(device)\n",
        "      \n",
        "          outputs = model(local_X, local_Z)\n",
        "          _, predicted = torch.max(outputs.data, 1)\n",
        "          total += local_Y.size(0)\n",
        "          correct += (predicted == local_Y).sum().item()\n",
        "\n",
        "  return 100 * correct / total"
      ],
      "execution_count": null,
      "outputs": []
    },
    {
      "cell_type": "code",
      "metadata": {
        "id": "aYqocE7qDzri"
      },
      "source": [
        "val_data = SubSet(ivd,val_idx)"
      ],
      "execution_count": null,
      "outputs": []
    },
    {
      "cell_type": "code",
      "metadata": {
        "id": "EXClrTi0Dzrj"
      },
      "source": [
        "workers = 8\n",
        "batch_size = 400\n",
        "val_data = DataLoader(val_data,batch_size=batch_size,shuffle=False,num_workers=workers)"
      ],
      "execution_count": null,
      "outputs": []
    },
    {
      "cell_type": "code",
      "metadata": {
        "id": "W9K_4nu-Dzrk"
      },
      "source": [
        "checkpoint = torch.load(PATH)\n",
        "model.load_state_dict(checkpoint['model_state_dict'])\n",
        "\n",
        "use_cuda = torch.cuda.is_available()\n",
        "if use_cuda:\n",
        "    device = torch.device('cuda')\n",
        "else:\n",
        "    device = torch.device('cpu')\n",
        "    \n",
        "model = model.to(device)"
      ],
      "execution_count": null,
      "outputs": []
    },
    {
      "cell_type": "code",
      "metadata": {
        "id": "sCyy4MKdDzrk",
        "outputId": "92db8d02-612f-4e85-d6d2-0e6476d11b14"
      },
      "source": [
        "index = 0\n",
        "total = len(val_data)\n",
        "\n",
        "points = {}\n",
        "obj = []\n",
        "print(len(points))\n",
        "with torch.no_grad():\n",
        "    for data in val_data:  \n",
        "      index +=1\n",
        "      objects = data[\"obj\"]\n",
        "      obj_num = data[\"obj_num\"]\n",
        "      local_X = data[\"image\"].float()\n",
        "      local_Z = data[\"point\"].float()\n",
        "      local_X = local_X.to(device)\n",
        "      local_Z = local_Z.to(device)\n",
        "\n",
        "\n",
        "      outputs=model(local_X, local_Z)  \n",
        "      # keep track of points that here based on outputs\n",
        "      point_indices = np.argwhere(np.array(outputs.squeeze().squeeze().cpu()) >= THRESH)\n",
        "      #print(np.array(outputs.squeeze().squeeze().cpu()).shape)\n",
        "      #print(point_indices.shape)\n",
        "      print(\"{} of {}\".format(index,total), end=\"\\r\")\n",
        "      obj.append(set(objects))\n",
        "      for ind in point_indices:\n",
        "        #print(int(ind))\n",
        "        key = str(objects[int(ind)]) #str(obj_num[ind].cpu())\n",
        "        #print(key, str(obj_num[ind].cpu()))\n",
        "        val = np.array(local_Z[ind].cpu())[0]\n",
        "        if key in points.keys():\n",
        "            #print('again')\n",
        "            points[key] = np.append(points[key], np.array([val]), axis=0)\n",
        "        else:\n",
        "            points[key] = np.array([val])"
      ],
      "execution_count": null,
      "outputs": [
        {
          "output_type": "stream",
          "text": [
            "0\n",
            "7865 of 7865\r"
          ],
          "name": "stdout"
        }
      ]
    },
    {
      "cell_type": "code",
      "metadata": {
        "id": "gLbMQYYIDzrk"
      },
      "source": [
        "# for key in points.keys():\n",
        "#     print(points[key])"
      ],
      "execution_count": null,
      "outputs": []
    },
    {
      "cell_type": "code",
      "metadata": {
        "id": "S0nnznnkDzrl"
      },
      "source": [
        "os.makedirs('./ops-data'+PATH)\n",
        "for key in points.keys(): \n",
        "    #with open(\"./model.binvox\", 'rb') as f:\n",
        "        #model = binvox_rw.read_as_3d_array(f)\n",
        "    vox = binvox_rw.Voxels(points[key].T, [32, 32, 32], (0, 0, 0), 0, 'xyz')\n",
        "    vox_file = open('./ops-data' + str(PATH) + '/oyehoye'+key+'.binvox', 'wb')\n",
        "    #arr = np.zeros((16,16,16))\n",
        "    #print(points[key].shape)\n",
        "    #break\n",
        "    #arr[points[key][:,0], points[key][:,1], points[key][:,2]] = 1\n",
        "    #model.data = arr\n",
        "    #model.write(vox_file)\n",
        "    vox.write(vox_file)    "
      ],
      "execution_count": null,
      "outputs": []
    },
    {
      "cell_type": "code",
      "metadata": {
        "id": "AJ9AulDDDzrl"
      },
      "source": [
        "!zip -r ops-data25.zip ops-data25/*"
      ],
      "execution_count": null,
      "outputs": []
    },
    {
      "cell_type": "code",
      "metadata": {
        "id": "o97rHLyXDzrl"
      },
      "source": [
        "set_obj = []\n",
        "for o in obj:\n",
        "    if list(o)[0] not in set_obj:\n",
        "        set_obj.append(list(o)[0])"
      ],
      "execution_count": null,
      "outputs": []
    },
    {
      "cell_type": "code",
      "metadata": {
        "id": "_R-F7I9WDzrm"
      },
      "source": [
        "set_obj"
      ],
      "execution_count": null,
      "outputs": []
    },
    {
      "cell_type": "code",
      "metadata": {
        "id": "1-XgDo3ZDzro"
      },
      "source": [
        "#import matplotlib.pyplot as plt\n",
        "#for data in val_data:\n",
        "#    plt.imshow(data['image'][0][0], cmap='gray')\n",
        "#    break"
      ],
      "execution_count": null,
      "outputs": []
    },
    {
      "cell_type": "code",
      "metadata": {
        "id": "-QGqoIleDzrw"
      },
      "source": [
        "#fp = open('bin.binvox', 'r')\n",
        "#dims, translate, scale = binvox_rw.read_header(fp)\n",
        "#raw_data = np.frombuffer(fp.read(), dtype=np.uint8)"
      ],
      "execution_count": null,
      "outputs": []
    },
    {
      "cell_type": "code",
      "metadata": {
        "id": "zSLN0BpIDzrx",
        "outputId": "932c6ff8-a038-45ce-f71e-6f58168a3f3a"
      },
      "source": [
        "from matplotlib import pyplot as plt\n",
        "for data in val_data:\n",
        "    img = data['image'][0][0]\n",
        "    plt.imshow(img)\n",
        "    break"
      ],
      "execution_count": null,
      "outputs": [
        {
          "output_type": "display_data",
          "data": {
            "image/png": "[encoded data removed]",
            "text/plain": [
              "<Figure size 432x288 with 1 Axes>"
            ]
          },
          "metadata": {
            "tags": [],
            "needs_background": "light"
          }
        }
      ]
    },
    {
      "cell_type": "code",
      "metadata": {
        "id": "LI9JifZEDzrx"
      },
      "source": [
        "import sys\n",
        "sys.version_info[0]"
      ],
      "execution_count": null,
      "outputs": []
    },
    {
      "cell_type": "code",
      "metadata": {
        "id": "2aRrTJcGDzrx"
      },
      "source": [
        "loc=\"./Debug1u/\"\n",
        "objects = os.listdir(loc)\n",
        "\n",
        "ious = []\n",
        "\n",
        "for object_num in set_obj:\n",
        "    model = None\n",
        "    with open(loc+objects[int(object_num)]+\"/model.binvox\", 'rb') as f:\n",
        "        model = binvox_rw.read_as_3d_array(f)\n",
        "    \n",
        "    predicted = points[object_num].astype(np.uint8)\n",
        "    arr = np.zeros((32,32,32))\n",
        "    #print(predicted.shape[0])\n",
        "    arr[predicted[:,0], predicted[:,1], predicted[:,2]] = 1\n",
        "\n",
        "#     for point in predicted:\n",
        "#         print(point)\n",
        "#         arr[point[0], point[1], point[2]] = 1\n",
        "    ious.append(IoU(model.data, arr))"
      ],
      "execution_count": null,
      "outputs": []
    },
    {
      "cell_type": "code",
      "metadata": {
        "id": "a2P9uDsTDzry"
      },
      "source": [
        "print(np.mean(ious))"
      ],
      "execution_count": null,
      "outputs": []
    },
    {
      "cell_type": "code",
      "metadata": {
        "id": "QuCuGTQfDzrz"
      },
      "source": [
        ""
      ],
      "execution_count": null,
      "outputs": []
    }
  ]
}